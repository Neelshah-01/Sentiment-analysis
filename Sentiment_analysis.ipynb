{
  "cells": [
    {
      "cell_type": "code",
      "execution_count": null,
      "metadata": {
        "id": "IVbi5Z7qKFdF"
      },
      "outputs": [],
      "source": [
        "# Project done on May 2022\n",
        "import pandas as pd"
      ]
    },
    {
      "cell_type": "code",
      "execution_count": null,
      "metadata": {
        "id": "2MPwSD8KKght"
      },
      "outputs": [],
      "source": [
        "# press ctrl and click on below link\n",
        "# https://www.kaggle.com/d4rklucif3r/restaurant-reviews\n",
        "# Kindly download the tsv file and upload it here\n",
        "df = pd.read_csv(\"/content/Restaurant_Reviews.tsv\", delimiter = \"\\t\")"
      ]
    },
    {
      "cell_type": "code",
      "execution_count": null,
      "metadata": {
        "id": "kPmG6t0SN6x5"
      },
      "outputs": [],
      "source": [
        "import matplotlib.pyplot as plt"
      ]
    },
    {
      "cell_type": "code",
      "execution_count": null,
      "metadata": {
        "id": "_JHMIOOEQTQI"
      },
      "outputs": [],
      "source": [
        "import numpy as np"
      ]
    },
    {
      "cell_type": "code",
      "execution_count": null,
      "metadata": {
        "id": "gMExMu_JYGDB"
      },
      "outputs": [],
      "source": [
        "df = df.replace([1, 0], [\"Positive\", \"Negative\"])"
      ]
    },
    {
      "cell_type": "code",
      "execution_count": null,
      "metadata": {
        "colab": {
          "base_uri": "https://localhost:8080/"
        },
        "id": "N4aiKb5CYQjq",
        "outputId": "60a17957-5c1a-4c5f-97b1-b5c5133c0602"
      },
      "outputs": [
        {
          "data": {
            "text/plain": [
              "Positive    500\n",
              "Negative    500\n",
              "Name: Liked, dtype: int64"
            ]
          },
          "execution_count": 6,
          "metadata": {},
          "output_type": "execute_result"
        }
      ],
      "source": [
        "df[\"Liked\"].value_counts()"
      ]
    },
    {
      "cell_type": "code",
      "execution_count": null,
      "metadata": {
        "colab": {
          "base_uri": "https://localhost:8080/",
          "height": 307
        },
        "id": "HYe1a4yWHRmF",
        "outputId": "ac511ccf-a097-4ded-ae00-3be0d1bd4dd6"
      },
      "outputs": [
        {
          "data": {
            "image/png": "[encoded data removed]",
            "text/plain": [
              "<Figure size 432x288 with 1 Axes>"
            ]
          },
          "metadata": {},
          "output_type": "display_data"
        }
      ],
      "source": [
        "plt.figure(facecolor = \"#C46200\")\n",
        "plt.axes().set_facecolor(\"lightblue\")\n",
        "plt.title(\"Number of occurrences of reviews\")\n",
        "plt.xlabel(\"Number of\\nreviews\")\n",
        "plt.ylabel(\"Review\\ntype\")\n",
        "df[\"Liked\"].value_counts().plot(kind = \"barh\", color = \"#2F435A\", edgecolor = \"black\")\n",
        "plt.show()"
      ]
    },
    {
      "cell_type": "code",
      "execution_count": null,
      "metadata": {
        "colab": {
          "base_uri": "https://localhost:8080/",
          "height": 307
        },
        "id": "Nmjqa7ybkbLQ",
        "outputId": "53a15cb3-c335-4b1b-bf4d-9bf55a16c101"
      },
      "outputs": [
        {
          "data": {
            "image/png": "[encoded data removed]",
            "text/plain": [
              "<Figure size 432x288 with 1 Axes>"
            ]
          },
          "metadata": {},
          "output_type": "display_data"
        }
      ],
      "source": [
        "negative = df.loc[df[\"Liked\"] == \"Negative\"]\n",
        "positive = df.loc[df[\"Liked\"] == \"Positive\"]\n",
        "\n",
        "# The spaces at start and end are to assure they are individual words only not parts of\n",
        "# bigger words\n",
        "positive_word_occurrences = [np.array(positive[\"Review\"]).sum().lower().count(\" good \"),\n",
        "                             np.array(positive[\"Review\"]).sum().lower().count(\" bad \"),\n",
        "                             np.array(positive[\"Review\"]).sum().lower().count(\" not \"),\n",
        "                             np.array(positive[\"Review\"]).sum().lower().count(\" nice \"),\n",
        "                             np.array(positive[\"Review\"]).sum().lower().count(\" super \"),\n",
        "                             np.array(positive[\"Review\"]).sum().lower().count(\" awesome \"),\n",
        "                             np.array(positive[\"Review\"]).sum().lower().count(\" tasty \")]\n",
        "negative_word_occurrences = [np.array(negative[\"Review\"]).sum().lower().count(\" good \"),\n",
        "                             np.array(negative[\"Review\"]).sum().lower().count(\" bad \"),\n",
        "                             np.array(negative[\"Review\"]).sum().lower().count(\" not \"),\n",
        "                             np.array(negative[\"Review\"]).sum().lower().count(\" nice \"),\n",
        "                             np.array(negative[\"Review\"]).sum().lower().count(\" super \"),\n",
        "                             np.array(negative[\"Review\"]).sum().lower().count(\" awesome \"),\n",
        "                             np.array(negative[\"Review\"]).sum().lower().count(\" tasty \")]\n",
        "words = [\"good\", \"bad\", \"not\", \"nice\", \"super\", \"awesome\", \"tasty\"]\n",
        "x = np.linspace(5, 35, 7)\n",
        "plt.figure(facecolor = \"#C46200\")\n",
        "plt.axes().set_facecolor(\"lightblue\")\n",
        "plt.title(\"Occurrences of some words in reviews\")\n",
        "plt.bar(x - 1, positive_word_occurrences, width = 2, color = \"red\", edgecolor = \"black\")\n",
        "plt.bar(x + 1, negative_word_occurrences, width = 2, color = \"blue\", edgecolor = \"black\")\n",
        "plt.xticks(x, words)\n",
        "plt.xlabel(\"Words\")\n",
        "plt.ylabel(\"Number of occurences\")\n",
        "plt.legend([\"Positive reviews\", \"Negative reviews\"])\n",
        "plt.show()"
      ]
    },
    {
      "cell_type": "code",
      "execution_count": null,
      "metadata": {
        "id": "MIdK1BNU3zpv"
      },
      "outputs": [],
      "source": [
        "x = df[\"Review\"].values\n",
        "y = df[\"Liked\"].values"
      ]
    },
    {
      "cell_type": "code",
      "execution_count": null,
      "metadata": {
        "id": "_UvPn9RXQAEZ"
      },
      "outputs": [],
      "source": [
        "from sklearn.model_selection import train_test_split\n",
        "x_train,x_test,y_train,y_test = train_test_split(x, y, random_state = 1940, test_size = 0.25)"
      ]
    },
    {
      "cell_type": "code",
      "execution_count": null,
      "metadata": {
        "id": "c9Ff3f5z4alf"
      },
      "outputs": [],
      "source": [
        "from sklearn.feature_extraction.text import CountVectorizer\n",
        "vect = CountVectorizer(stop_words = \"english\")\n",
        "x_train_vect = vect.fit_transform(x_train)\n",
        "x_test_vect = vect.transform(x_test)"
      ]
    },
    {
      "cell_type": "code",
      "execution_count": null,
      "metadata": {
        "id": "5-18AS-k4g-2"
      },
      "outputs": [],
      "source": [
        "from sklearn.svm import SVC\n",
        "model_SVC = SVC()\n",
        "model_SVC.fit(x_train_vect, y_train)\n",
        "y_pred1 = model_SVC.predict(x_test_vect)"
      ]
    },
    {
      "cell_type": "code",
      "execution_count": null,
      "metadata": {
        "colab": {
          "base_uri": "https://localhost:8080/"
        },
        "id": "kjWIjqI68fCt",
        "outputId": "d5044e47-b094-4af3-815b-abb3b5ea9202"
      },
      "outputs": [
        {
          "data": {
            "text/plain": [
              "0.856"
            ]
          },
          "execution_count": 14,
          "metadata": {},
          "output_type": "execute_result"
        }
      ],
      "source": [
        "from sklearn.metrics import accuracy_score\n",
        "accuracy_SVC = accuracy_score(y_test, y_pred1)\n",
        "accuracy_SVC"
      ]
    },
    {
      "cell_type": "code",
      "execution_count": null,
      "metadata": {
        "id": "W9G0GNpFIyGw"
      },
      "outputs": [],
      "source": [
        "from sklearn.pipeline import make_pipeline\n",
        "pipeline_model_SVC = make_pipeline(CountVectorizer(),SVC())\n",
        "pipeline_model_SVC.fit(x_train,y_train)\n",
        "y_pred2 = pipeline_model_SVC.predict(x_test)"
      ]
    },
    {
      "cell_type": "code",
      "execution_count": null,
      "metadata": {
        "colab": {
          "base_uri": "https://localhost:8080/"
        },
        "id": "sLizGuN-NmZ6",
        "outputId": "9b164162-cee5-4234-a951-76edeac6f85f"
      },
      "outputs": [
        {
          "data": {
            "text/plain": [
              "0.756"
            ]
          },
          "execution_count": 16,
          "metadata": {},
          "output_type": "execute_result"
        }
      ],
      "source": [
        "pipeline_accuracy_SVC = accuracy_score(y_test, y_pred2)\n",
        "pipeline_accuracy_SVC"
      ]
    },
    {
      "cell_type": "code",
      "execution_count": null,
      "metadata": {
        "id": "idigSuPmNr_G"
      },
      "outputs": [],
      "source": [
        "from sklearn.naive_bayes import MultinomialNB\n",
        "model_NB = MultinomialNB()\n",
        "model_NB.fit(x_train_vect, y_train)\n",
        "y_pred3 = model_NB.predict(x_test_vect)"
      ]
    },
    {
      "cell_type": "code",
      "execution_count": null,
      "metadata": {
        "colab": {
          "base_uri": "https://localhost:8080/"
        },
        "id": "wz6rr0q3QlKN",
        "outputId": "f419e18f-72f4-4c24-d6ab-9836356c49c6"
      },
      "outputs": [
        {
          "data": {
            "text/plain": [
              "0.784"
            ]
          },
          "execution_count": 18,
          "metadata": {},
          "output_type": "execute_result"
        }
      ],
      "source": [
        "accuracy_NB = accuracy_score(y_test, y_pred3)\n",
        "accuracy_NB"
      ]
    },
    {
      "cell_type": "code",
      "execution_count": null,
      "metadata": {
        "id": "5D76K1QFQ1R_"
      },
      "outputs": [],
      "source": [
        "pipeline_model_NB = make_pipeline(CountVectorizer(), MultinomialNB())\n",
        "pipeline_model_NB.fit(x_train, y_train)\n",
        "y_pred4 = pipeline_model_NB.predict(x_test)"
      ]
    },
    {
      "cell_type": "code",
      "execution_count": null,
      "metadata": {
        "colab": {
          "base_uri": "https://localhost:8080/"
        },
        "id": "AID-xyNORz52",
        "outputId": "43c4c2c7-0667-47c2-965d-a61befcd5f33"
      },
      "outputs": [
        {
          "data": {
            "text/plain": [
              "0.808"
            ]
          },
          "execution_count": 20,
          "metadata": {},
          "output_type": "execute_result"
        }
      ],
      "source": [
        "pipeline_accuracy_NB = accuracy_score(y_test, y_pred4)\n",
        "pipeline_accuracy_NB"
      ]
    },
    {
      "cell_type": "code",
      "execution_count": null,
      "metadata": {
        "colab": {
          "base_uri": "https://localhost:8080/"
        },
        "id": "K4N6Ilhi4KYm",
        "outputId": "69a1ce7d-28d4-4859-889a-dcdc03cf3e4a"
      },
      "outputs": [
        {
          "name": "stdout",
          "output_type": "stream",
          "text": [
            "In this case, accuracy scores are in order as follows\n",
            "\t SVC model accuracy \t:\t0.856\n",
            "Pipeline SVC model accuracy \t:\t0.756\n",
            "\t  NB model accuracy \t:\t0.784\n",
            " Pipeline NB model accuracy \t:\t0.808\n",
            "\n",
            "Thus SVC model has highest accuracy of 0.856\n"
          ]
        }
      ],
      "source": [
        "print(f\"In this case, accuracy scores are in order as follows\\n\\\n",
        "\\t SVC model accuracy \\t:\\t{accuracy_SVC}\\n\\\n",
        "Pipeline SVC model accuracy \\t:\\t{pipeline_accuracy_SVC}\\n\\\n",
        "\\t  NB model accuracy \\t:\\t{accuracy_NB}\\n\\\n",
        " Pipeline NB model accuracy \\t:\\t{pipeline_accuracy_NB}\\n\\n\\\n",
        "Thus SVC model has highest accuracy of {accuracy_SVC}\")"
      ]
    },
    {
      "cell_type": "code",
      "execution_count": null,
      "metadata": {
        "colab": {
          "base_uri": "https://localhost:8080/"
        },
        "id": "HugH7F92R7Y5",
        "outputId": "4b6e4f68-6e7a-4dcb-8f1c-6c6d85f2c628"
      },
      "outputs": [
        {
          "data": {
            "text/plain": [
              "['Sentiment_analysis']"
            ]
          },
          "execution_count": 22,
          "metadata": {},
          "output_type": "execute_result"
        }
      ],
      "source": [
        "import joblib\n",
        "joblib.dump(model_SVC, \"Sentiment_analysis\")"
      ]
    },
    {
      "cell_type": "code",
      "execution_count": null,
      "metadata": {
        "id": "AzMl-rI2TATS"
      },
      "outputs": [],
      "source": [
        "model = joblib.load(\"Sentiment_analysis\")"
      ]
    },
    {
      "cell_type": "code",
      "execution_count": null,
      "metadata": {
        "colab": {
          "base_uri": "https://localhost:8080/"
        },
        "id": "Vm4jCUczTqgl",
        "outputId": "994227cf-3a99-4ea1-dee2-45dc83636a8f"
      },
      "outputs": [
        {
          "data": {
            "text/plain": [
              "array(['Negative'], dtype=object)"
            ]
          },
          "execution_count": 24,
          "metadata": {},
          "output_type": "execute_result"
        }
      ],
      "source": [
        "model.predict(vect.transform([\"food could have been better\"]))"
      ]
    },
    {
      "cell_type": "code",
      "execution_count": null,
      "metadata": {
        "colab": {
          "base_uri": "https://localhost:8080/"
        },
        "id": "5QWPqprIVckp",
        "outputId": "1ca803ea-508d-4107-bf94-c0aa20194c80"
      },
      "outputs": [
        {
          "data": {
            "text/plain": [
              "array(['Positive'], dtype=object)"
            ]
          },
          "execution_count": 25,
          "metadata": {},
          "output_type": "execute_result"
        }
      ],
      "source": [
        "model.predict(vect.transform([\"food here tastes awesome\"]))"
      ]
    },
    {
      "cell_type": "code",
      "execution_count": null,
      "metadata": {
        "colab": {
          "base_uri": "https://localhost:8080/",
          "height": 53
        },
        "id": "fiQI-Vv5Wi7N",
        "outputId": "4d66e837-2e32-4855-804f-67b98b2298d1"
      },
      "outputs": [
        {
          "name": "stdout",
          "output_type": "stream",
          "text": [
            "Enter review: This is the best food i have eaten in a while\n"
          ]
        },
        {
          "data": {
            "application/vnd.google.colaboratory.intrinsic+json": {
              "type": "string"
            },
            "text/plain": [
              "'Positive'"
            ]
          },
          "execution_count": 26,
          "metadata": {},
          "output_type": "execute_result"
        }
      ],
      "source": [
        "# Predict sentiment of your input\n",
        "model.predict(vect.transform([input(\"Enter review: \")]))[0]"
      ]
    }
  ],
  "metadata": {
    "colab": {
      "provenance": []
    },
    "kernelspec": {
      "display_name": "Python 3",
      "name": "python3"
    },
    "language_info": {
      "name": "python"
    }
  },
  "nbformat": 4,
  "nbformat_minor": 0
}
